{
 "cells": [
  {
   "cell_type": "markdown",
   "source": [
    "## Homework 2 for CSC488 done by Ivan Akinfiev"
   ],
   "metadata": {
    "collapsed": false
   },
   "id": "35df04fbb5784a2d"
  },
  {
   "cell_type": "markdown",
   "source": [
    "### Problem 1\n",
    "\n",
    "$\\textit{Prove:}$\n",
    "\n",
    "\n",
    "$$ \\mathbb{E} \\left [ (X-w)^2 \\right ] = \\mathbb{E} \\left [(X - \\mu)^2 \\right ]+ (\\mu - w)^2  $$\n",
    "\n",
    "$\\textit{Proof:}$\n",
    "\n",
    "$$ \\mathbb{E} \\left [ (X-w)^2 \\right ] = \\mathbb{E} \\left [ (X^2 - \\mu + \\mu - w^2)^ \\right ] =  $$\n",
    "$$ \\mathbb{E} \\left [(X-\\mu)^2 + 2(X-\\mu)(X+\\mu) + (\\mu - w)^2 \\right] = $$ \n",
    "$$ \\mathbb{E} \\left [(X-\\mu)^2 \\right ] + \\mathbb{E} \\left [(2(X-\\mu)(X+\\mu) \\right ] + \\left [ (\\mu-w)^2 \\right ] = $$  \n",
    "$$ \\mathbb{E} \\left [(X-\\mu)^2 \\right ] + \\left [ (\\mu-w)^2 \\right ], \\; \\text{since} \\; \\mathbb{E}(X) - \\mu = 0, \\; \\text{so the middle term is 0} $$ "
   ],
   "metadata": {
    "collapsed": false
   },
   "id": "32f5e379aaae11d7"
  },
  {
   "cell_type": "markdown",
   "source": [
    "### Problem 2 "
   ],
   "metadata": {
    "collapsed": false
   },
   "id": "1e9ac85a696155a4"
  },
  {
   "cell_type": "markdown",
   "source": [
    "### Problem 3"
   ],
   "metadata": {
    "collapsed": false
   },
   "id": "18a4cde57ad3101b"
  },
  {
   "cell_type": "code",
   "execution_count": 85,
   "id": "initial_id",
   "metadata": {
    "collapsed": true,
    "ExecuteTime": {
     "end_time": "2024-02-20T05:10:47.162512200Z",
     "start_time": "2024-02-20T05:10:47.134857100Z"
    }
   },
   "outputs": [],
   "source": [
    " "
   ]
  },
  {
   "cell_type": "markdown",
   "source": [
    "### Problem 4"
   ],
   "metadata": {
    "collapsed": false
   },
   "id": "257ad9dc45116d1b"
  },
  {
   "cell_type": "code",
   "execution_count": 86,
   "outputs": [],
   "source": [
    "%matplotlib inline"
   ],
   "metadata": {
    "collapsed": false,
    "ExecuteTime": {
     "end_time": "2024-02-20T05:10:47.163020Z",
     "start_time": "2024-02-20T05:10:47.135237700Z"
    }
   },
   "id": "4814ae402efaa217"
  },
  {
   "cell_type": "code",
   "execution_count": 87,
   "outputs": [],
   "source": [
    "import numpy as np\n",
    "import pandas as pd\n",
    "import statsmodels.api as sm\n",
    "import matplotlib.pyplot as plt \n",
    "import seaborn as sns \n"
   ],
   "metadata": {
    "collapsed": false,
    "ExecuteTime": {
     "end_time": "2024-02-20T05:10:47.163020Z",
     "start_time": "2024-02-20T05:10:47.143002100Z"
    }
   },
   "id": "c40abc3f8f34081"
  },
  {
   "cell_type": "code",
   "execution_count": 104,
   "outputs": [
    {
     "data": {
      "text/plain": "[8, 16, 32, 64, 128, 256, 512, 1024]"
     },
     "execution_count": 104,
     "metadata": {},
     "output_type": "execute_result"
    }
   ],
   "source": [
    "ms = [2**i for i in range(3, 11)]\n",
    "ms"
   ],
   "metadata": {
    "collapsed": false,
    "ExecuteTime": {
     "end_time": "2024-02-20T05:16:59.402930900Z",
     "start_time": "2024-02-20T05:16:59.402424Z"
    }
   },
   "id": "2db5195d3a7d3103"
  },
  {
   "cell_type": "code",
   "execution_count": 89,
   "outputs": [],
   "source": [
    "def generate_data(m, theta):\n",
    "    output = []\n",
    "    for i in range(m):\n",
    "        x = np.random.uniform(size=1)\n",
    "        if x > theta:\n",
    "            output.append((x,1))\n",
    "        else: \n",
    "            output.append((x,-1))\n",
    "    return output\n",
    "\n",
    "            "
   ],
   "metadata": {
    "collapsed": false,
    "ExecuteTime": {
     "end_time": "2024-02-20T05:10:47.163020Z",
     "start_time": "2024-02-20T05:10:47.148383600Z"
    }
   },
   "id": "715026898d558ac6"
  },
  {
   "cell_type": "code",
   "execution_count": 90,
   "outputs": [
    {
     "data": {
      "text/plain": "[(array([0.43880041]), -1),\n (array([0.22247928]), -1),\n (array([0.83604399]), 1),\n (array([0.99834936]), 1),\n (array([0.75389328]), 1),\n (array([0.80240644]), 1),\n (array([0.33880846]), -1),\n (array([0.81279291]), 1)]"
     },
     "execution_count": 90,
     "metadata": {},
     "output_type": "execute_result"
    }
   ],
   "source": [
    "generate_data(8, 1/2)"
   ],
   "metadata": {
    "collapsed": false,
    "ExecuteTime": {
     "end_time": "2024-02-20T05:10:47.178660600Z",
     "start_time": "2024-02-20T05:10:47.152557400Z"
    }
   },
   "id": "a86f09e39af0cb4f"
  },
  {
   "cell_type": "code",
   "execution_count": 91,
   "outputs": [
    {
     "data": {
      "text/plain": "array([0.10132803])"
     },
     "execution_count": 91,
     "metadata": {},
     "output_type": "execute_result"
    }
   ],
   "source": [
    "def erm_learn_theta(data, theta = 0):\n",
    "    min_neg = 0\n",
    "    max_pos = 1\n",
    "    for i in range(len(data)):\n",
    "        if data[i][0] > theta:\n",
    "            if data[i][1] == 1:\n",
    "                continue\n",
    "            else: \n",
    "                theta = data[i][0]\n",
    "        else: \n",
    "            if data[i][1] == -1:\n",
    "                continue\n",
    "            else:\n",
    "                theta = data[i][0]\n",
    "    return np.abs(theta - 1/2)\n",
    "\n",
    "erm_learn_theta(generate_data(8, 1/2))\n"
   ],
   "metadata": {
    "collapsed": false,
    "ExecuteTime": {
     "end_time": "2024-02-20T05:10:47.203293400Z",
     "start_time": "2024-02-20T05:10:47.157987200Z"
    }
   },
   "id": "c456cc27582276c8"
  },
  {
   "cell_type": "markdown",
   "source": [
    "It seems that in this case out generalization error will be just a difference between underlying distribution and the learned parameter. \n",
    "\n",
    "$$ err(\\hat{h_m},\\mathcal{D}) =  | \\hat{\\theta} - \\theta |  $$ "
   ],
   "metadata": {
    "collapsed": false
   },
   "id": "80eda25e9a2eb44a"
  },
  {
   "cell_type": "code",
   "execution_count": 92,
   "outputs": [
    {
     "data": {
      "text/plain": "[array([0.11313296]),\n array([0.05714823]),\n array([0.02998369]),\n array([0.01523967]),\n array([0.00688693]),\n array([0.00371102]),\n array([0.00192506]),\n array([0.00098791])]"
     },
     "execution_count": 92,
     "metadata": {},
     "output_type": "execute_result"
    }
   ],
   "source": [
    "def evaluate_over_all_m(m_s):\n",
    "    avg_errors = []\n",
    "    for m in m_s:\n",
    "        part_errors = []\n",
    "        for i in range(200):\n",
    "            data = generate_data(m, 1/2)\n",
    "            part_errors.append(erm_learn_theta(data))\n",
    "        avg_errors.append(sum(part_errors)/len(part_errors))\n",
    "    return avg_errors\n",
    "            \n",
    "            \n",
    "eval = evaluate_over_all_m(ms)\n",
    "eval "
   ],
   "metadata": {
    "collapsed": false,
    "ExecuteTime": {
     "end_time": "2024-02-20T05:10:48.669623100Z",
     "start_time": "2024-02-20T05:10:47.163020Z"
    }
   },
   "id": "74816967db502416"
  },
  {
   "cell_type": "markdown",
   "source": [
    "### b) "
   ],
   "metadata": {
    "collapsed": false
   },
   "id": "d030127677ba5e54"
  },
  {
   "cell_type": "code",
   "execution_count": 107,
   "outputs": [
    {
     "data": {
      "text/plain": "<Figure size 640x480 with 1 Axes>",
      "image/png": "[encoded data removed]"
     },
     "metadata": {},
     "output_type": "display_data"
    }
   ],
   "source": [
    "def generate_regression(data, m_s):\n",
    "    for i in range(len(m_s)):\n",
    "        data[i]= np.log(data[i])\n",
    "        m_s[i] = np.log(m_s[i])\n",
    "        data = np.array(data)\n",
    "        data = np.squeeze(data)\n",
    "        m_s = np.array(m_s)\n",
    "        m_s = np.squeeze(m_s)\n",
    "        \n",
    "    df = pd.DataFrame({'m': m_s, 'z_m':data})\n",
    "    #lm = sm.OLS(data, m_s).fit()\n",
    "    return df\n",
    "\n",
    "df = generate_regression(eval, ms)\n",
    "sns.regplot(x='z_m', y='m', data=df)\n",
    "plt.show()\n",
    "    \n",
    "        "
   ],
   "metadata": {
    "collapsed": false,
    "ExecuteTime": {
     "end_time": "2024-02-20T05:19:20.541103200Z",
     "start_time": "2024-02-20T05:19:20.401370Z"
    }
   },
   "id": "28ec35c53621e2a0"
  },
  {
   "cell_type": "code",
   "execution_count": null,
   "outputs": [],
   "source": [],
   "metadata": {
    "collapsed": false,
    "ExecuteTime": {
     "end_time": "2024-02-20T05:10:48.731931800Z",
     "start_time": "2024-02-20T05:10:48.731931800Z"
    }
   },
   "id": "54ab892bec78ffe2"
  },
  {
   "cell_type": "code",
   "execution_count": null,
   "outputs": [],
   "source": [],
   "metadata": {
    "collapsed": false,
    "ExecuteTime": {
     "end_time": "2024-02-20T05:10:48.731931800Z",
     "start_time": "2024-02-20T05:10:48.731931800Z"
    }
   },
   "id": "64a0d3735a0cd027"
  }
 ],
 "metadata": {
  "kernelspec": {
   "display_name": "Python 3",
   "language": "python",
   "name": "python3"
  },
  "language_info": {
   "codemirror_mode": {
    "name": "ipython",
    "version": 2
   },
   "file_extension": ".py",
   "mimetype": "text/x-python",
   "name": "python",
   "nbconvert_exporter": "python",
   "pygments_lexer": "ipython2",
   "version": "2.7.6"
  }
 },
 "nbformat": 4,
 "nbformat_minor": 5
}
